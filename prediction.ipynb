{
 "cells": [
  {
   "cell_type": "code",
   "execution_count": null,
   "id": "b81db6de",
   "metadata": {},
   "outputs": [],
   "source": [
    "import numpy as np\n",
    "import pandas as pd \n",
    "import os \n",
    "import matplotlib.pyplot as plt "
   ]
  },
  {
   "cell_type": "code",
   "execution_count": null,
   "id": "1057c6b4",
   "metadata": {},
   "outputs": [],
   "source": [
    "import warnings\n",
    "warnings.filterwarnings('ignore')"
   ]
  },
  {
   "cell_type": "code",
   "execution_count": null,
   "id": "cecb47f3",
   "metadata": {},
   "outputs": [],
   "source": [
    "df =pd.read_csv(\"data/prices.csv\", header=0)\n",
    "df"
   ]
  },
  {
   "cell_type": "code",
   "execution_count": null,
   "id": "932f62a4",
   "metadata": {},
   "outputs": [],
   "source": [
    "#size of the dataset in 851264 rows and 7 columns\n",
    "print(df.shape)"
   ]
  },
  {
   "cell_type": "code",
   "execution_count": null,
   "id": "8b3ef91b",
   "metadata": {},
   "outputs": [],
   "source": [
    "# takes 20 different and unique from symbol\n",
    "df.symbol.unique()[0:20]"
   ]
  },
  {
   "cell_type": "code",
   "execution_count": null,
   "id": "d1ac2fea",
   "metadata": {},
   "outputs": [],
   "source": [
    "\n",
    "print(len(df.symbol.values))"
   ]
  },
  {
   "cell_type": "code",
   "execution_count": null,
   "id": "4c38c33a",
   "metadata": {},
   "outputs": [],
   "source": [
    "df.describe()"
   ]
  },
  {
   "cell_type": "code",
   "execution_count": null,
   "id": "2061104c",
   "metadata": {},
   "outputs": [],
   "source": [
    "df.isnull().sum()"
   ]
  },
  {
   "cell_type": "code",
   "execution_count": null,
   "id": "86ec64fd",
   "metadata": {},
   "outputs": [],
   "source": [
    "df.date.unique()"
   ]
  },
  {
   "cell_type": "code",
   "execution_count": null,
   "id": "802dc2f8",
   "metadata": {},
   "outputs": [],
   "source": [
    "comp_info = pd.read_csv('data/securities.csv')\n",
    "comp_info"
   ]
  },
  {
   "cell_type": "code",
   "execution_count": null,
   "id": "51c4973f",
   "metadata": {},
   "outputs": [],
   "source": [
    "comp_info[\"Ticker symbol\"].nunique()"
   ]
  },
  {
   "cell_type": "code",
   "execution_count": null,
   "id": "a81861d7",
   "metadata": {},
   "outputs": [],
   "source": [
    "comp_info.loc[comp_info.Security.str.startswith('Face') , :]"
   ]
  },
  {
   "cell_type": "code",
   "execution_count": null,
   "id": "217e8ef2",
   "metadata": {},
   "outputs": [],
   "source": [
    "comp_plot = comp_info.loc[(comp_info[\"Security\"] == 'Yahoo Inc.') | (comp_info[\"Security\"] == 'Xerox Corp.') | (comp_info[\"Security\"] == 'Adobe Systems Inc')\n",
    "              | (comp_info[\"Security\"] == 'Microsoft Corp.') | (comp_info[\"Security\"] == 'Adobe Systems Inc') \n",
    "              | (comp_info[\"Security\"] == 'Facebook') | (comp_info[\"Security\"] == 'Goldman Sachs Group') , [\"Ticker symbol\"] ][\"Ticker symbol\"] \n",
    "print(comp_plot)"
   ]
  },
  {
   "cell_type": "code",
   "execution_count": null,
   "id": "1480b4c3",
   "metadata": {},
   "outputs": [],
   "source": [
    "\n",
    "def plotter(code):\n",
    "    global closing_stock ,opening_stock\n",
    "    f, axs = plt.subplots(2,2,figsize=(8,8))\n",
    "    plt.subplot(212)\n",
    "    company = df[df['symbol']==code]\n",
    "    company = company.open.values.astype('float32')\n",
    "    company = company.reshape(-1, 1)\n",
    "    opening_stock = company\n",
    "\n",
    "    \n",
    "    plt.grid(True)\n",
    "    plt.xlabel('Time') \n",
    "    plt.ylabel(code + \" open stock prices\") \n",
    "    plt.title('prices Vs Time')\n",
    "    plt.plot(company , 'g')\n",
    "    \n",
    "    plt.subplot(211)\n",
    "    \n",
    "    company_close = df[df['symbol']==code]\n",
    "    \n",
    "    company_close = company_close.close.values.astype('float32')\n",
    "    \n",
    "    company_close = company_close.reshape(-1, 1)\n",
    "    \n",
    "    closing_stock = company_close\n",
    "\n",
    "    \n",
    "    plt.xlabel('Time') \n",
    "    plt.ylabel(code + \" close stock prices\")\n",
    "    plt.title('prices Vs Time') \n",
    "    plt.grid(True) \n",
    "    plt.plot(company_close , 'b')\n",
    "    plt.show() \n",
    "\n",
    "for i in comp_plot:\n",
    "    plotter(i)"
   ]
  },
  {
   "cell_type": "code",
   "execution_count": null,
   "id": "71b5627c",
   "metadata": {},
   "outputs": [],
   "source": [
    "closing_stock[:,0]"
   ]
  },
  {
   "cell_type": "code",
   "execution_count": null,
   "id": "3b20e5f7",
   "metadata": {},
   "outputs": [],
   "source": [
    "stocks = closing_stock[: , 0]\n",
    "print(stocks)\n",
    "stocks = stocks.reshape(len(stocks) , 1)"
   ]
  },
  {
   "cell_type": "markdown",
   "id": "fd8d7bd4",
   "metadata": {},
   "source": [
    "**Feature scaling the vector for better model performance.**"
   ]
  },
  {
   "cell_type": "code",
   "execution_count": null,
   "id": "e1c6f7f1",
   "metadata": {},
   "outputs": [],
   "source": [
    "from sklearn.preprocessing import MinMaxScaler\n",
    "scaler = MinMaxScaler(feature_range=(0, 1)) \n",
    "stocks = scaler.fit_transform(stocks) "
   ]
  },
  {
   "cell_type": "code",
   "execution_count": null,
   "id": "d0621ffd",
   "metadata": {},
   "outputs": [],
   "source": [
    "train = int(len(stocks) * 0.80)\n",
    "test = len(stocks) - train "
   ]
  },
  {
   "cell_type": "code",
   "execution_count": null,
   "id": "f6f909a7",
   "metadata": {},
   "outputs": [],
   "source": [
    "\n",
    "print(train , test)"
   ]
  },
  {
   "cell_type": "code",
   "execution_count": null,
   "id": "05ac8220",
   "metadata": {},
   "outputs": [],
   "source": [
    "train = stocks[0:train]\n",
    "print(train)"
   ]
  },
  {
   "cell_type": "code",
   "execution_count": null,
   "id": "4020415b",
   "metadata": {},
   "outputs": [],
   "source": [
    "test = stocks[len(train) : ]"
   ]
  },
  {
   "cell_type": "code",
   "execution_count": null,
   "id": "df1f394c",
   "metadata": {},
   "outputs": [],
   "source": [
    "train = train.reshape(len(train) , 1)\n",
    "test = test.reshape(len(test) , 1)"
   ]
  },
  {
   "cell_type": "code",
   "execution_count": null,
   "id": "7af3fd85",
   "metadata": {},
   "outputs": [],
   "source": [
    "print(train.shape , test.shape)"
   ]
  },
  {
   "cell_type": "code",
   "execution_count": null,
   "id": "02c6d8ab",
   "metadata": {},
   "outputs": [],
   "source": [
    "def process_data(data , n_features):\n",
    "    dataX, dataY = [], [] \n",
    "    for i in range(len(data)-n_features-1):\n",
    "        a = data[i:(i+n_features), 0]\n",
    "        dataX.append(a) \n",
    "        dataY.append(data[i + n_features, 0])\n",
    "    return np.array(dataX), np.array(dataY)\n"
   ]
  },
  {
   "cell_type": "code",
   "execution_count": null,
   "id": "b67b1e73",
   "metadata": {},
   "outputs": [],
   "source": [
    "n_features = 2\n",
    "trainX, trainY = process_data(train, n_features)\n",
    "testX, testY = process_data(test, n_features)"
   ]
  },
  {
   "cell_type": "code",
   "execution_count": null,
   "id": "206d1e82",
   "metadata": {},
   "outputs": [],
   "source": [
    "print(trainX.shape , trainY.shape , testX.shape , testY.shape)"
   ]
  },
  {
   "cell_type": "code",
   "execution_count": null,
   "id": "28aff5f8",
   "metadata": {},
   "outputs": [],
   "source": [
    "trainX = trainX.reshape(trainX.shape[0] , 1 ,trainX.shape[1])\n",
    "testX = testX.reshape(testX.shape[0] , 1 ,testX.shape[1])"
   ]
  },
  {
   "cell_type": "code",
   "execution_count": null,
   "id": "97a0467a",
   "metadata": {},
   "outputs": [],
   "source": [
    "import math \n",
    "from keras.models import Sequential \n",
    "from keras.layers import Dense , BatchNormalization , Dropout , Activation \n",
    "from keras.layers import LSTM , GRU \n",
    "from sklearn.preprocessing import MinMaxScaler \n",
    "from sklearn.metrics import mean_squared_error \n",
    "from keras.optimizers import Adam , SGD , RMSprop "
   ]
  },
  {
   "cell_type": "code",
   "execution_count": null,
   "id": "2c5372be",
   "metadata": {},
   "outputs": [],
   "source": [
    "filepath=\"model/stock_weights.hdf5\"\n",
    "from keras.callbacks import ReduceLROnPlateau , ModelCheckpoint\n",
    "lr_reduce = ReduceLROnPlateau(monitor='val_loss', factor=0.1, epsilon=0.0001, patience=1, verbose=1)\n",
    "checkpoint = ModelCheckpoint(filepath, monitor='val_loss', verbose=1, save_best_only=True, mode='max')"
   ]
  },
  {
   "cell_type": "markdown",
   "id": "2772c959",
   "metadata": {},
   "source": []
  },
  {
   "cell_type": "code",
   "execution_count": null,
   "id": "91ffdfd4",
   "metadata": {},
   "outputs": [],
   "source": [
    "model = Sequential()\n",
    "model.add(GRU(256 , input_shape = (1 , n_features) , return_sequences=True))\n",
    "model.add(Dropout(0.4))\n",
    "model.add(LSTM(256))\n",
    "model.add(Dropout(0.4))\n",
    "model.add(Dense(64 ,  activation = 'relu'))\n",
    "model.add(Dense(1))\n",
    "print(model.summary())"
   ]
  },
  {
   "cell_type": "code",
   "execution_count": null,
   "id": "80d99c79",
   "metadata": {},
   "outputs": [],
   "source": [
    "model.compile(loss='mean_squared_error', optimizer=Adam(lr = 0.0005) , metrics = ['mean_squared_error'])"
   ]
  },
  {
   "cell_type": "code",
   "execution_count": null,
   "id": "1e69e3da",
   "metadata": {
    "scrolled": true
   },
   "outputs": [],
   "source": [
    " \n",
    "history = model.fit(trainX, trainY, epochs=100 , batch_size = 128 , \n",
    "          callbacks = [checkpoint , lr_reduce] , validation_data = (testX,testY))    "
   ]
  },
  {
   "cell_type": "code",
   "execution_count": null,
   "id": "3b18ac63",
   "metadata": {},
   "outputs": [],
   "source": [
    "import matplotlib.pyplot as plt\n",
    "plt.plot(history.history['mean_squared_error']) \n",
    "plt.plot(history.history['val_mean_squared_error'])\n",
    "plt.title('model mean squared error')\n",
    "plt.ylabel('loss') \n",
    "plt.xlabel('epoch')\n",
    "plt.legend(['train', 'test'], loc='upper left') \n",
    "plt.show() \n",
    "\n",
    "plt.plot(history.history['loss'])\n",
    "plt.plot(history.history['val_loss'])\n",
    "plt.title('model loss')\n",
    "plt.ylabel('loss') \n",
    "plt.xlabel('epoch') \n",
    "plt.legend(['train', 'test'], loc='upper left')  \n",
    "plt.show() "
   ]
  },
  {
   "cell_type": "code",
   "execution_count": null,
   "id": "6a0e861f",
   "metadata": {},
   "outputs": [],
   "source": [
    "\n",
    "def model_score(model, X_train, y_train, X_test, y_test):\n",
    "   \n",
    "    trainScore = model.evaluate(X_train, y_train, verbose=0)\n",
    " \n",
    "    print('Train Score: %.5f MSE (%.2f RMSE)' % (trainScore[0], math.sqrt(trainScore[0])))\n",
    "    testScore = model.evaluate(X_test, y_test, verbose=0)\n",
    "    print('Test Score: %.5f MSE (%.2f RMSE)' % (testScore[0], math.sqrt(testScore[0])))\n",
    "    return trainScore[0], testScore[0]\n",
    "\n",
    "model_score(model, trainX, trainY , testX, testY)"
   ]
  },
  {
   "cell_type": "code",
   "execution_count": null,
   "id": "a317938a",
   "metadata": {},
   "outputs": [],
   "source": [
    "pred = model.predict(testX)\n",
    "pred = scaler.inverse_transform(pred)\n",
    "pred[:10]\n"
   ]
  },
  {
   "cell_type": "code",
   "execution_count": null,
   "id": "b081f361",
   "metadata": {},
   "outputs": [],
   "source": [
    "testY = testY.reshape(testY.shape[0] , 1)\n",
    "testY = scaler.inverse_transform(testY)\n",
    "testY[:10]"
   ]
  },
  {
   "cell_type": "code",
   "execution_count": null,
   "id": "e91d1646",
   "metadata": {},
   "outputs": [],
   "source": [
    "print(\"Red - Predicted Stock Prices  ,  Blue - Actual Stock Prices\")\n",
    "plt.rcParams[\"figure.figsize\"] = (15,7)\n",
    "plt.plot(testY , 'b')\n",
    "plt.plot(pred , 'r')\n",
    "plt.xlabel('Time')\n",
    "plt.ylabel('Stock Prices')\n",
    "plt.title('Check the accuracy of the model with time')\n",
    "plt.grid(True)\n",
    "plt.show()"
   ]
  },
  {
   "cell_type": "code",
   "execution_count": null,
   "id": "7a7754ce",
   "metadata": {},
   "outputs": [],
   "source": []
  }
 ],
 "metadata": {
  "kernelspec": {
   "display_name": "Python 3 (ipykernel)",
   "language": "python",
   "name": "python3"
  },
  "language_info": {
   "codemirror_mode": {
    "name": "ipython",
    "version": 3
   },
   "file_extension": ".py",
   "mimetype": "text/x-python",
   "name": "python",
   "nbconvert_exporter": "python",
   "pygments_lexer": "ipython3",
   "version": "3.11.4"
  }
 },
 "nbformat": 4,
 "nbformat_minor": 5
}
